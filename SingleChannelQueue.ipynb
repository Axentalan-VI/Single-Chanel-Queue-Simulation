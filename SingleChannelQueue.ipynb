{
 "cells": [
  {
   "cell_type": "code",
   "execution_count": 1,
   "metadata": {},
   "outputs": [],
   "source": [
    "import random"
   ]
  },
  {
   "cell_type": "code",
   "execution_count": 2,
   "metadata": {},
   "outputs": [],
   "source": [
    "N_CUSTOMERS = 50 \n",
    "SIMULATIONS = 10 \n",
    "MAX_SERVICE_TIME = 20\n",
    "MAX_INTERARRIVAL_TIME =20"
   ]
  },
  {
   "cell_type": "code",
   "execution_count": 3,
   "metadata": {},
   "outputs": [],
   "source": [
    "total_waiting_time = 0\n",
    "customers_waiting = 0\n",
    "total_idle_time = 0\n",
    "server_busy_time = 0\n",
    "total_service_time = 0\n",
    "total_interarrival_time = 0\n",
    "total_time_in_system = 0\n",
    "\n",
    "for i in range(SIMULATIONS):\n",
    "\n",
    "    waiting_time = 0\n",
    "    queue = []\n",
    "    service_time = 0\n",
    "    interarrival_time = 0\n",
    "    time_in_system = 0\n",
    "    server_busy = False\n",
    "    idle_time = 0\n",
    "\n",
    "\n",
    "    interarrival_times = [random.randint(1, MAX_INTERARRIVAL_TIME) for i in range(N_CUSTOMERS)]\n",
    "    service_times = [random.randint(1, MAX_SERVICE_TIME) for i in range(N_CUSTOMERS)]\n",
    "\n",
    "    for j in range(N_CUSTOMERS):\n",
    "\n",
    "        if j == 0:\n",
    "           arrival_time = 0\n",
    "        else:\n",
    "            arrival_time += interarrival_time\n",
    "        service_start_time = max(arrival_time, service_time)\n",
    "        service_end_time = service_start_time + service_times[j]\n",
    "        interarrival_time = interarrival_times[j]\n",
    "        time_in_system = service_end_time - arrival_time\n",
    "\n",
    "        # Check if server is idle\n",
    "        if not server_busy:\n",
    "            idle_time += service_start_time - arrival_time\n",
    "            server_busy = True\n",
    "\n",
    "        # Check if customer has to wait in queue\n",
    "        if service_start_time > arrival_time:\n",
    "            waiting_time += service_start_time - arrival_time\n",
    "            customers_waiting += 1\n",
    "            queue.append(j)\n",
    "        else:\n",
    "            server_busy_time += service_times[j]\n",
    "            total_time_in_system += time_in_system\n",
    "\n",
    "        # Serve customer in queue\n",
    "        if queue:\n",
    "            customer = queue.pop(0)\n",
    "            service_time = service_end_time\n",
    "            server_busy_time += service_times[customer]\n",
    "            total_time_in_system += service_times[customer] + \\\n",
    "                interarrival_times[customer]\n",
    "        else:\n",
    "            service_time = service_end_time\n",
    "            server_busy = False\n",
    "\n",
    "\n",
    "    total_waiting_time += waiting_time\n",
    "    total_idle_time += idle_time\n",
    "    total_service_time += sum(service_times)\n",
    "    total_interarrival_time += sum(interarrival_times)\n",
    "\n",
    "\n"
   ]
  },
  {
   "cell_type": "code",
   "execution_count": 4,
   "metadata": {},
   "outputs": [],
   "source": [
    "avg_waiting_time = total_waiting_time / (N_CUSTOMERS * SIMULATIONS)\n",
    "prob_customers_waiting = customers_waiting / (N_CUSTOMERS * SIMULATIONS)\n",
    "frac_idle_time = total_idle_time / (N_CUSTOMERS * SIMULATIONS * MAX_INTERARRIVAL_TIME)\n",
    "prob_server_busy = 1 - frac_idle_time\n",
    "avg_service_time = total_service_time / (N_CUSTOMERS * SIMULATIONS)\n",
    "avg_interarrival_time = total_interarrival_time / (N_CUSTOMERS * SIMULATIONS)\n",
    "avg_time_in_system = total_time_in_system / (N_CUSTOMERS * SIMULATIONS)"
   ]
  },
  {
   "cell_type": "code",
   "execution_count": 5,
   "metadata": {},
   "outputs": [
    {
     "name": "stdout",
     "output_type": "stream",
     "text": [
      "12th Single Channel Queue Output \n",
      "\n",
      "----------------------------------------------------------\n",
      "\n",
      "Average waiting time for a customer :  33.936\n",
      "\n",
      "Probability that a customer has to wait in the queue : 83.6%\n",
      "\n",
      "Fraction of idle time of the server :  0.0252\n",
      "\n",
      "Probability of the server being busy : 97.48%\n",
      "\n",
      "Average service time :  10.664\n",
      "\n",
      "Average time between arrivals :  10.416\n",
      "\n",
      "Average time a customer spends in the system :  19.408\n",
      "\n",
      "----------------------------------------------------------\n"
     ]
    }
   ],
   "source": [
    "print(\"12th Single Channel Queue Output \\n\")\n",
    "print(\"----------------------------------------------------------\\n\")\n",
    "print(\"Average waiting time for a customer : \", avg_waiting_time)\n",
    "print(\"\\nProbability that a customer has to wait in the queue : \"+str(round(prob_customers_waiting*100,2))+\"%\")\n",
    "print(\"\\nFraction of idle time of the server : \", frac_idle_time)\n",
    "print(\"\\nProbability of the server being busy : \"+str(round(prob_server_busy*100,2))+\"%\")\n",
    "print(\"\\nAverage service time : \", avg_service_time)\n",
    "print(\"\\nAverage time between arrivals : \", avg_interarrival_time)\n",
    "print(\"\\nAverage time a customer spends in the system : \", avg_time_in_system)\n",
    "print(\"\\n----------------------------------------------------------\")\n"
   ]
  }
 ],
 "metadata": {
  "kernelspec": {
   "display_name": "Python 3",
   "language": "python",
   "name": "python3"
  },
  "language_info": {
   "codemirror_mode": {
    "name": "ipython",
    "version": 3
   },
   "file_extension": ".py",
   "mimetype": "text/x-python",
   "name": "python",
   "nbconvert_exporter": "python",
   "pygments_lexer": "ipython3",
   "version": "3.10.8"
  },
  "orig_nbformat": 4
 },
 "nbformat": 4,
 "nbformat_minor": 2
}
